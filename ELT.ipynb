{
 "cells": [
  {
   "cell_type": "code",
   "execution_count": null,
   "metadata": {},
   "outputs": [
    {
     "name": "stderr",
     "output_type": "stream",
     "text": [
      "/usr/local/python/3.12.1/lib/python3.12/site-packages/fuzzywuzzy/fuzz.py:11: UserWarning: Using slow pure-python SequenceMatcher. Install python-Levenshtein to remove this warning\n",
      "  warnings.warn('Using slow pure-python SequenceMatcher. Install python-Levenshtein to remove this warning')\n"
     ]
    }
   ],
   "source": [
    "import pandas as pa\n",
    "import spacy\n",
    "from fuzzywuzzy import process"
   ]
  },
  {
   "cell_type": "code",
   "execution_count": 8,
   "metadata": {},
   "outputs": [],
   "source": [
    "from mappings import *"
   ]
  },
  {
   "cell_type": "code",
   "execution_count": 9,
   "metadata": {},
   "outputs": [],
   "source": [
    "open_f = \"datasets\"\n",
    "save_f = \"transformed_data\""
   ]
  },
  {
   "cell_type": "code",
   "execution_count": null,
   "metadata": {},
   "outputs": [],
   "source": [
    "init_soil_data = pa.read_csv(f\"{open_f}/soil.csv\")\n",
    "init_irrigated_area_data = pa.read_csv(f\"{open_f}/irrigated_area.csv\")\n",
    "init_price_data = pa.read_csv(f\"{open_f}/crop_prices.csv\")\n",
    "init_weather_data = pa.read_csv(f\"{open_f}/weather.csv\")"
   ]
  },
  {
   "cell_type": "markdown",
   "metadata": {},
   "source": [
    "# Irrigated Area"
   ]
  },
  {
   "cell_type": "code",
   "execution_count": 4,
   "metadata": {},
   "outputs": [],
   "source": [
    "def transform_irrigated_area_data(df):\n",
    "    df_2020 = df[df['Year'] == 2020]\n",
    "    df_2020['Address'] = df_2020['State Code'].astype(str) + ', ' + df_2020['State Name'] + ', ' + df_2020['Dist Name']\n",
    "\n",
    "    # df_2020 = df_2020[['Dddist Code', 'Address'] + [col for col in df.columns if 'IRRIGATED AREA' in col]]\n",
    "    df_2020['Total Area'] = df_2020[[col for col in df_2020.columns if 'IRRIGATED AREA' in col]].sum(axis=1)\n",
    "\n",
    "    df_final = df_2020[['Dist Code', 'Address', 'Total Area']]\n",
    "    df_final.to_csv(f'{save_f}/irrigated_areacsv', index=False)\n",
    "    print(\"Transformation for irrigated area complete.\")"
   ]
  },
  {
   "cell_type": "markdown",
   "metadata": {},
   "source": [
    "# Soil nutrients"
   ]
  },
  {
   "cell_type": "code",
   "execution_count": 5,
   "metadata": {},
   "outputs": [],
   "source": [
    "def transform_soil_nutrient_levels(df):\n",
    "    macronutrient_categories = [\"Nitrogen\", \"Phosphorous\", \"Potassium\", \"OC\", \"EC\", \"pH\"]\n",
    "    micronutrient_categories = [\"Copper\", \"Boron\", \"S\", \"Fe\", \"Zn\", \"Mn\"]\n",
    "    \n",
    "    combined_results = {}\n",
    "\n",
    "    for nutrient in macronutrient_categories:\n",
    "        columns = [col for col in df.columns if col.startswith(nutrient)]\n",
    "        def determine_macronutrient_level(row):\n",
    "            values = row[columns]\n",
    "            max_index = values.idxmax()\n",
    "            return max_index.split(\" - \")[1]\n",
    "        combined_results[nutrient] = df.apply(determine_macronutrient_level, axis=1)\n",
    "\n",
    "    for nutrient in micronutrient_categories:\n",
    "        columns = [col for col in df.columns if col.startswith(nutrient)]\n",
    "        def determine_micronutrient_level(row):\n",
    "            values = row[columns]\n",
    "            max_index = values.idxmax()\n",
    "            return max_index.split(\" - \")[1]\n",
    "        combined_results[nutrient] = df.apply(determine_micronutrient_level, axis=1)\n",
    "\n",
    "    combined_df = pa.DataFrame(combined_results)\n",
    "\n",
    "    other_columns = ['District'] \n",
    "    df_final = pa.concat([df[other_columns], combined_df], axis=1)\n",
    "\n",
    "    df_final.to_csv(f'{save_f}/soil.csv', index=False)\n",
    "    print(\"Transformation for Soil Data complete.\")"
   ]
  },
  {
   "cell_type": "markdown",
   "metadata": {},
   "source": [
    "# Prices"
   ]
  },
  {
   "cell_type": "code",
   "execution_count": 13,
   "metadata": {},
   "outputs": [
    {
     "name": "stdout",
     "output_type": "stream",
     "text": [
      "Collecting en-core-web-sm==3.8.0\n",
      "  Downloading https://github.com/explosion/spacy-models/releases/download/en_core_web_sm-3.8.0/en_core_web_sm-3.8.0-py3-none-any.whl (12.8 MB)\n",
      "\u001b[2K     \u001b[90m━━━━━━━━━━━━━━━━━━━━━━━━━━━━━━━━━━━━━━━━\u001b[0m \u001b[32m12.8/12.8 MB\u001b[0m \u001b[31m24.7 MB/s\u001b[0m eta \u001b[36m0:00:00\u001b[0m00:01\u001b[0m0:01\u001b[0m\n",
      "\u001b[?25hInstalling collected packages: en-core-web-sm\n",
      "Successfully installed en-core-web-sm-3.8.0\n",
      "\n",
      "\u001b[1m[\u001b[0m\u001b[34;49mnotice\u001b[0m\u001b[1;39;49m]\u001b[0m\u001b[39;49m A new release of pip is available: \u001b[0m\u001b[31;49m24.2\u001b[0m\u001b[39;49m -> \u001b[0m\u001b[32;49m24.3.1\u001b[0m\n",
      "\u001b[1m[\u001b[0m\u001b[34;49mnotice\u001b[0m\u001b[1;39;49m]\u001b[0m\u001b[39;49m To update, run: \u001b[0m\u001b[32;49mpython -m pip install --upgrade pip\u001b[0m\n",
      "\u001b[38;5;2m✔ Download and installation successful\u001b[0m\n",
      "You can now load the package via spacy.load('en_core_web_sm')\n"
     ]
    }
   ],
   "source": [
    "!python -m spacy download en_core_web_sm"
   ]
  },
  {
   "cell_type": "code",
   "execution_count": 14,
   "metadata": {},
   "outputs": [],
   "source": [
    "nlp = spacy.load(\"en_core_web_sm\")\n",
    "\n",
    "standard_commodities = [\n",
    "    'RICE', 'WHEAT', 'KHARIF SORGHUM', 'RABI SORGHUM', 'SORGHUM', \n",
    "    'PEARL MILLET', 'MAIZE', 'FINGER MILLET', 'BARLEY', 'CHICKPEA', \n",
    "    'PIGEONPEA', 'MINOR PULSES', 'PULSES', 'GROUNDNUT', 'SESAMUM', \n",
    "    'LINSEED', 'SUGARCANE', 'COTTON', 'FRUITS AND VEGETABLES', 'FODDER'\n",
    "]\n",
    "\n",
    "def match_commodity_entity(commodity, variety):\n",
    "    combined_text = f\"{commodity} {variety}\"\n",
    "    doc = nlp(combined_text)\n",
    "    entities = [ent.text.upper() for ent in doc.ents]\n",
    "    if entities:\n",
    "        best_match = process.extractOne(entities[0], standard_commodities)\n",
    "        return best_match[0]\n",
    "    \n",
    "    return process.extractOne(combined_text.upper(), standard_commodities)[0]\n",
    "\n",
    "def transform_crop_price(df):\n",
    "    df = df.drop(columns=['Market', 'Grade', 'Arrival_Date', 'Modal_x0020_Price'])\n",
    "    df['Commodity'] = df.apply(lambda row: match_commodity_entity(row['Commodity'], row['Variety']), axis=1)\n",
    "    return df"
   ]
  },
  {
   "cell_type": "markdown",
   "metadata": {},
   "source": [
    "# TRANFORMM!!!!"
   ]
  },
  {
   "cell_type": "code",
   "execution_count": null,
   "metadata": {},
   "outputs": [],
   "source": []
  }
 ],
 "metadata": {
  "kernelspec": {
   "display_name": "Python 3",
   "language": "python",
   "name": "python3"
  },
  "language_info": {
   "codemirror_mode": {
    "name": "ipython",
    "version": 3
   },
   "file_extension": ".py",
   "mimetype": "text/x-python",
   "name": "python",
   "nbconvert_exporter": "python",
   "pygments_lexer": "ipython3",
   "version": "3.12.1"
  }
 },
 "nbformat": 4,
 "nbformat_minor": 2
}
