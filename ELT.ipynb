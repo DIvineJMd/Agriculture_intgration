{
 "cells": [
  {
   "cell_type": "code",
   "execution_count": 5,
   "metadata": {},
   "outputs": [],
   "source": [
    "import pandas as pa"
   ]
  },
  {
   "cell_type": "code",
   "execution_count": 6,
   "metadata": {},
   "outputs": [],
   "source": [
    "save_f = \"transformed_data\""
   ]
  },
  {
   "cell_type": "code",
   "execution_count": 15,
   "metadata": {},
   "outputs": [
    {
     "ename": "SyntaxError",
     "evalue": "invalid syntax (1382812132.py, line 10)",
     "output_type": "error",
     "traceback": [
      "\u001b[1;36m  Cell \u001b[1;32mIn[15], line 10\u001b[1;36m\u001b[0m\n\u001b[1;33m    print(\"Transformation for irrigated area complete.\")f\u001b[0m\n\u001b[1;37m                                                        ^\u001b[0m\n\u001b[1;31mSyntaxError\u001b[0m\u001b[1;31m:\u001b[0m invalid syntax\n"
     ]
    }
   ],
   "source": [
    "def transform_irrigated_area_data(df):\n",
    "    df_2020 = df[df['Year'] == 2020]\n",
    "    df_2020['Address'] = df_2020['State Code'].astype(str) + ', ' + df_2020['State Name'] + ', ' + df_2020['Dist Name']\n",
    "\n",
    "    # df_2020 = df_2020[['Dddist Code', 'Address'] + [col for col in df.columns if 'IRRIGATED AREA' in col]]\n",
    "    df_2020['Total Area'] = df_2020[[col for col in df_2020.columns if 'IRRIGATED AREA' in col]].sum(axis=1)\n",
    "\n",
    "    df_final = df_2020[['Dist Code', 'Address', 'Total Area']]\n",
    "    df_final.to_csv(f'{save_f}/irrigated_areacsv', index=False)\n",
    "    print(\"Transformation for irrigated area complete.\")f"
   ]
  },
  {
   "cell_type": "code",
   "execution_count": 13,
   "metadata": {},
   "outputs": [],
   "source": [
    "def transform_soil_nutrient_levels(df):\n",
    "    macronutrient_categories = [\"Nitrogen\", \"Phosphorous\", \"Potassium\", \"OC\", \"EC\", \"pH\"]\n",
    "    micronutrient_categories = [\"Copper\", \"Boron\", \"S\", \"Fe\", \"Zn\", \"Mn\"]\n",
    "    \n",
    "    combined_results = {}\n",
    "\n",
    "    for nutrient in macronutrient_categories:\n",
    "        columns = [col for col in df.columns if col.startswith(nutrient)]\n",
    "        def determine_macronutrient_level(row):\n",
    "            values = row[columns]\n",
    "            max_index = values.idxmax()\n",
    "            return max_index.split(\" - \")[1]\n",
    "        combined_results[nutrient] = df.apply(determine_macronutrient_level, axis=1)\n",
    "\n",
    "    for nutrient in micronutrient_categories:\n",
    "        columns = [col for col in df.columns if col.startswith(nutrient)]\n",
    "        def determine_micronutrient_level(row):\n",
    "            values = row[columns]\n",
    "            max_index = values.idxmax()\n",
    "            return max_index.split(\" - \")[1]\n",
    "        combined_results[nutrient] = df.apply(determine_micronutrient_level, axis=1)\n",
    "\n",
    "    combined_df = pa.DataFrame(combined_results)\n",
    "\n",
    "    other_columns = ['District'] \n",
    "    df_final = pa.concat([df[other_columns], combined_df], axis=1)\n",
    "\n",
    "    df_final.to_csv(f'{save_f}/soil.csv', index=False)\n",
    "    print(\"Transformation for Soil Data complete.\")"
   ]
  },
  {
   "cell_type": "code",
   "execution_count": null,
   "metadata": {},
   "outputs": [],
   "source": []
  }
 ],
 "metadata": {
  "kernelspec": {
   "display_name": "Python 3",
   "language": "python",
   "name": "python3"
  },
  "language_info": {
   "codemirror_mode": {
    "name": "ipython",
    "version": 3
   },
   "file_extension": ".py",
   "mimetype": "text/x-python",
   "name": "python",
   "nbconvert_exporter": "python",
   "pygments_lexer": "ipython3",
   "version": "3.12.7"
  }
 },
 "nbformat": 4,
 "nbformat_minor": 2
}
