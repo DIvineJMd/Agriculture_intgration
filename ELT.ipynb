{
 "cells": [
  {
   "cell_type": "code",
   "execution_count": 17,
   "metadata": {},
   "outputs": [],
   "source": [
    "import pandas as pd\n",
    "import spacy\n",
    "import os\n",
    "import sqlite3\n",
    "from fuzzywuzzy import process\n",
    "import matplotlib.pyplot as plt"
   ]
  },
  {
   "cell_type": "code",
   "execution_count": 2,
   "metadata": {},
   "outputs": [],
   "source": [
    "from mappings import *"
   ]
  },
  {
   "cell_type": "code",
   "execution_count": 3,
   "metadata": {},
   "outputs": [],
   "source": [
    "iacp = \"database/Irrigated_Area_and_Crop_Price.db\"\n",
    "sh = \"database/soil_health.db\"\n",
    "wb = \"database/weather_data.db\"\n",
    "\n",
    "tiacp = \"Transformed_database/Irrigated_Area_and_Crop_Price.db\"\n",
    "tsh = \"Transformed_database/soil_health.db\"\n",
    "twb = \"Transformed_database/weather_data.db\""
   ]
  },
  {
   "cell_type": "code",
   "execution_count": 18,
   "metadata": {},
   "outputs": [],
   "source": [
    "def load_db(path, name):\n",
    "    with sqlite3.connect(path) as conn:\n",
    "        db = pd.read_sql_query(f\"SELECT * FROM {name}\", conn)\n",
    "    return db\n",
    "\n",
    "def save_db(path, name, df):\n",
    "    if not os.path.exists(path):\n",
    "        open(path, 'w').close()\n",
    "    with sqlite3.connect(path) as conn:\n",
    "        df.to_sql(name, conn, if_exists='replace', index=False)"
   ]
  },
  {
   "cell_type": "code",
   "execution_count": 5,
   "metadata": {},
   "outputs": [],
   "source": [
    "micro_soil_data = load_db(sh, \"micro_nutrients\")\n",
    "macro_soil_data = load_db(sh, \"macro_nutrients\")\n",
    "init_irrigated_area_data = load_db(iacp, \"irrigated_area\")\n",
    "init_price_data = load_db(iacp, \"crop_prices\")\n",
    "current_weather_data = load_db(wb, \"current_weather\")\n",
    "daily_weather_data = load_db(wb, \"daily_weather\")\n",
    "houry_weather_data = load_db(wb, \"hourly_weather\")"
   ]
  },
  {
   "cell_type": "markdown",
   "metadata": {},
   "source": [
    "# Weather"
   ]
  },
  {
   "cell_type": "code",
   "execution_count": 20,
   "metadata": {},
   "outputs": [],
   "source": [
    "def transform_weather_data(current_data, hourly_data, daily_data):\n",
    "    daily_data['temperature_avg'] = (daily_data['temperature_2m_max'] + daily_data['temperature_2m_min']) / 2\n",
    "    daily_data['temperature_range'] = daily_data['temperature_2m_max'] - daily_data['temperature_2m_min']\n",
    "\n",
    "    hourly_data['date'] = pd.to_datetime(hourly_data['timestamp']).dt.date\n",
    "    hourly_temp_avg = hourly_data.groupby(['location_id', 'date'])['temperature_2m'].mean().reset_index()\n",
    "    hourly_temp_avg.rename(columns={'temperature_2m': 'hourly_temperature_avg'}, inplace=True)\n",
    "\n",
    "    combined_data = pd.merge(daily_data, hourly_temp_avg, on=['location_id', 'date'], how='left')\n",
    "\n",
    "    current_data['timestamp'] = pd.to_datetime(current_data['timestamp'])\n",
    "    current_summary = current_data.groupby('location_id').agg(\n",
    "        latest_temperature=('temperature_2m', 'last'),\n",
    "        latest_humidity=('relative_humidity_2m', 'last'),\n",
    "        latest_wind_speed=('wind_speed_10m', 'last')\n",
    "    ).reset_index()\n",
    "\n",
    "    final_data = pd.merge(combined_data, current_summary, on='location_id', how='left')\n",
    "    save_db(twb, \"Weather_data\", final_data)\n",
    "\n",
    "    print(\"Tranformation of Weather Data Completed.\")\n",
    "\n",
    "def plot_temperature_trends(daily_data, location_id, save_path=\"temperature_plot.png\"):\n",
    "    location_data = daily_data[daily_data['location_id'] == location_id]\n",
    "    location_data['date'] = pd.to_datetime(location_data['date'])\n",
    "\n",
    "    plt.figure(figsize=(12, 6))\n",
    "    plt.plot(location_data['date'], location_data['temperature_2m_max'], label='Max Temp (°C)', color='red', marker='o')\n",
    "    plt.plot(location_data['date'], location_data['temperature_2m_min'], label='Min Temp (°C)', color='blue', marker='o')\n",
    "    plt.fill_between(location_data['date'], \n",
    "                     location_data['temperature_2m_min'], \n",
    "                     location_data['temperature_2m_max'], \n",
    "                     color='orange', alpha=0.3, label='Temperature Range')\n",
    "    plt.title(f\"Temperature Trends for Location ID: {location_id}\")\n",
    "    plt.xlabel(\"Date\")\n",
    "    plt.ylabel(\"Temperature (°C)\")\n",
    "    plt.legend()\n",
    "    plt.grid(True)\n",
    "    plt.savefig(save_path)\n",
    "    print(f\"Temperature plot saved as {save_path}\")\n",
    "    plt.close()"
   ]
  },
  {
   "cell_type": "markdown",
   "metadata": {},
   "source": [
    "# Irrigated Area"
   ]
  },
  {
   "cell_type": "code",
   "execution_count": 38,
   "metadata": {},
   "outputs": [],
   "source": [
    "def transform_irrigated_area_data(df):\n",
    "    df_2020 = df[df['Year'] == 2020].copy()\n",
    "    df_2020['Address'] = (\n",
    "        df_2020['Dist_Name'].astype(str) + ', ' +\n",
    "        df_2020['State_Name'].astype(str) + ', ' +\n",
    "        df_2020['State_Code'].astype(str)\n",
    "    )\n",
    "\n",
    "    irrigated_area_columns = [col for col in df_2020.columns if 'IRRIGATED_AREA' in col]\n",
    "    if not irrigated_area_columns:\n",
    "        raise ValueError(\"No columns found containing 'IRRIGATED_AREA' in their names.\")\n",
    "\n",
    "    df_2020[irrigated_area_columns] = df_2020[irrigated_area_columns].apply(pd.to_numeric, errors='coerce')\n",
    "    df_2020['Total_Area'] = df_2020[irrigated_area_columns].sum(axis=1)\n",
    "\n",
    "    df_final = df_2020[['Dist_Code', 'Address', 'Total_Area']]\n",
    "\n",
    "    save_db(tiacp, \"irrigated_area\", df_final)\n",
    "    print(\"Transformation for irrigated area complete.\")"
   ]
  },
  {
   "cell_type": "markdown",
   "metadata": {},
   "source": [
    "# Soil nutrients"
   ]
  },
  {
   "cell_type": "code",
   "execution_count": 33,
   "metadata": {},
   "outputs": [],
   "source": [
    "def transform_soil_nutrient_levels(macro_df, micro_df):\n",
    "    macronutrient_categories = [\"nitrogen\", \"phosphorous\", \"potassium\", \"oc\", \"ec\", \"ph\"]\n",
    "    micronutrient_categories = [\"copper\", \"boron\", \"sulphur\", \"iron\", \"zinc\", \"manganese\"]\n",
    "\n",
    "    # print(\"Macro DataFrame columns:\", macro_df.columns.tolist())\n",
    "    # print(\"Micro DataFrame columns:\", micro_df.columns.tolist())\n",
    "    \n",
    "    macro_results = {}\n",
    "    micro_results = {}\n",
    "\n",
    "    for nutrient in macronutrient_categories:\n",
    "        columns = [col for col in macro_df.columns if col.startswith(nutrient)]\n",
    "        if not columns:\n",
    "            print(f\"No columns found for nutrient: {nutrient} in Macro DataFrame.\")\n",
    "            continue\n",
    "\n",
    "        def determine_macronutrient_level(row):\n",
    "            values = row[columns]\n",
    "            if values.isnull().all():\n",
    "                return \"Unknown\"\n",
    "            max_index = values.idxmax()\n",
    "            return max_index.split(\"_\")[-1]\n",
    "\n",
    "        macro_results[nutrient] = macro_df.apply(determine_macronutrient_level, axis=1)\n",
    "\n",
    "    for nutrient in micronutrient_categories:\n",
    "        columns = [col for col in micro_df.columns if col.startswith(nutrient)]\n",
    "        if not columns:\n",
    "            print(f\"No columns found for nutrient: {nutrient} in Micro DataFrame.\")\n",
    "            continue\n",
    "\n",
    "        def determine_micronutrient_level(row):\n",
    "            values = row[columns]\n",
    "            if values.isnull().all():\n",
    "                return \"Unknown\"\n",
    "            max_index = values.idxmax()\n",
    "            return max_index.split(\"_\")[-1]\n",
    "\n",
    "        micro_results[nutrient] = micro_df.apply(determine_micronutrient_level, axis=1)\n",
    "\n",
    "    macro_df_tran = pd.DataFrame(macro_results)\n",
    "    micro_df_tran = pd.DataFrame(micro_results)\n",
    "\n",
    "    other_columns = ['id', 'block', 'district']\n",
    "    macro_df_final = pd.concat([macro_df[other_columns], macro_df_tran], axis=1)\n",
    "    micro_df_final = pd.concat([micro_df[other_columns], micro_df_tran], axis=1)\n",
    "\n",
    "    save_db(tsh, \"Macro_nutrients\", macro_df_final)\n",
    "    save_db(tsh, \"Micro_nutrients\", micro_df_final)\n",
    "    print(\"Transformation for Soil Data complete.\")\n",
    "\n"
   ]
  },
  {
   "cell_type": "markdown",
   "metadata": {},
   "source": [
    "# Prices"
   ]
  },
  {
   "cell_type": "code",
   "execution_count": 13,
   "metadata": {},
   "outputs": [
    {
     "name": "stdout",
     "output_type": "stream",
     "text": [
      "Collecting en-core-web-sm==3.8.0\n",
      "  Downloading https://github.com/explosion/spacy-models/releases/download/en_core_web_sm-3.8.0/en_core_web_sm-3.8.0-py3-none-any.whl (12.8 MB)\n",
      "\u001b[2K     \u001b[90m━━━━━━━━━━━━━━━━━━━━━━━━━━━━━━━━━━━━━━━━\u001b[0m \u001b[32m12.8/12.8 MB\u001b[0m \u001b[31m23.9 MB/s\u001b[0m eta \u001b[36m0:00:00\u001b[0m00:01\u001b[0m0:01\u001b[0m\n",
      "\u001b[?25hInstalling collected packages: en-core-web-sm\n",
      "Successfully installed en-core-web-sm-3.8.0\n",
      "\n",
      "\u001b[1m[\u001b[0m\u001b[34;49mnotice\u001b[0m\u001b[1;39;49m]\u001b[0m\u001b[39;49m A new release of pip is available: \u001b[0m\u001b[31;49m24.2\u001b[0m\u001b[39;49m -> \u001b[0m\u001b[32;49m24.3.1\u001b[0m\n",
      "\u001b[1m[\u001b[0m\u001b[34;49mnotice\u001b[0m\u001b[1;39;49m]\u001b[0m\u001b[39;49m To update, run: \u001b[0m\u001b[32;49mpython -m pip install --upgrade pip\u001b[0m\n",
      "\u001b[38;5;2m✔ Download and installation successful\u001b[0m\n",
      "You can now load the package via spacy.load('en_core_web_sm')\n"
     ]
    }
   ],
   "source": [
    "!python -m spacy download en_core_web_sm"
   ]
  },
  {
   "cell_type": "code",
   "execution_count": 23,
   "metadata": {},
   "outputs": [],
   "source": [
    "nlp = spacy.load(\"en_core_web_sm\")\n",
    "\n",
    "standard_commodities = [\n",
    "    'RICE', 'WHEAT', 'KHARIF SORGHUM', 'RABI SORGHUM', 'SORGHUM', \n",
    "    'PEARL MILLET', 'MAIZE', 'FINGER MILLET', 'BARLEY', 'CHICKPEA', \n",
    "    'PIGEONPEA', 'MINOR PULSES', 'PULSES', 'GROUNDNUT', 'SESAMUM', \n",
    "    'LINSEED', 'SUGARCANE', 'COTTON', 'FRUITS AND VEGETABLES', 'FODDER'\n",
    "]\n",
    "\n",
    "def match_commodity_entity(commodity, variety):\n",
    "    combined_text = f\"{commodity} {variety}\"\n",
    "    doc = nlp(combined_text)\n",
    "    entities = [ent.text.upper() for ent in doc.ents]\n",
    "    if entities:\n",
    "        best_match = process.extractOne(entities[0], standard_commodities)\n",
    "        return best_match[0]\n",
    "    \n",
    "    return process.extractOne(combined_text.upper(), standard_commodities)[0]\n",
    "\n",
    "def transform_crop_price(df):\n",
    "    df = df.drop(columns=['Market', 'Grade', 'Arrival_Date', 'Modal_Price'])\n",
    "    df['Commodity'] = df.apply(lambda row: match_commodity_entity(row['Commodity'], row['Variety']), axis=1)\n",
    "    save_db(tiacp, \"crop_prices\", df)\n",
    "    print(\"Transformation for Soil Data complete.\")"
   ]
  },
  {
   "cell_type": "markdown",
   "metadata": {},
   "source": [
    "# TRANFORMM!!!!"
   ]
  },
  {
   "cell_type": "code",
   "execution_count": 25,
   "metadata": {},
   "outputs": [
    {
     "name": "stdout",
     "output_type": "stream",
     "text": [
      "Tranformation of Weather Data Completed.\n",
      "Temperature plot saved as temperature_plot.png\n",
      "Transformation for Soil Data complete.\n"
     ]
    }
   ],
   "source": [
    "transform_weather_data(current_weather_data, houry_weather_data, daily_weather_data)\n",
    "plot_temperature_trends(daily_weather_data, location_id=1, save_path=\"temperature_plot.png\")\n",
    "transform_crop_price(init_price_data)"
   ]
  },
  {
   "cell_type": "code",
   "execution_count": 34,
   "metadata": {},
   "outputs": [
    {
     "name": "stdout",
     "output_type": "stream",
     "text": [
      "Transformation for Soil Data complete.\n"
     ]
    }
   ],
   "source": [
    "transform_soil_nutrient_levels(macro_soil_data, micro_soil_data)"
   ]
  },
  {
   "cell_type": "code",
   "execution_count": 39,
   "metadata": {},
   "outputs": [
    {
     "name": "stdout",
     "output_type": "stream",
     "text": [
      "Transformation for irrigated area complete.\n"
     ]
    }
   ],
   "source": [
    "transform_irrigated_area_data(init_irrigated_area_data)"
   ]
  },
  {
   "cell_type": "code",
   "execution_count": null,
   "metadata": {},
   "outputs": [],
   "source": [
    "def disp_table(folder_name, db_file):\n",
    "    db_path = os.path.join(folder_name, db_file)\n",
    "    print(f\"\\nProcessing database: {db_file}\")\n",
    "\n",
    "    with sqlite3.connect(db_path) as conn:\n",
    "        cursor = conn.cursor()\n",
    "        cursor.execute(\"SELECT name FROM sqlite_master WHERE type='table';\")\n",
    "        tables = cursor.fetchall()\n",
    "        table_names = [table[0] for table in tables]\n",
    "\n",
    "        for table_name in table_names:\n",
    "            print(f\"\\nTable: {table_name}\")\n",
    "            try:\n",
    "                df = pd.read_sql_query(f\"SELECT * FROM {table_name} LIMIT 5\", conn)\n",
    "                print(df.head())\n",
    "            except Exception as e:\n",
    "                print(f\"Error reading table {table_name}: {e}\")"
   ]
  },
  {
   "cell_type": "code",
   "execution_count": 47,
   "metadata": {},
   "outputs": [
    {
     "name": "stdout",
     "output_type": "stream",
     "text": [
      "\n",
      "Processing database: Irrigated_Area_and_Crop_Price.db\n",
      "\n",
      "Table: crop_prices\n",
      "   State  District      Commodity                  Variety  Min_Price  \\\n",
      "0  Assam   Barpeta   RABI SORGHUM             Bitter Gourd     2600.0   \n",
      "1  Assam   Barpeta           RICE  French Beans (Frasbean)     3500.0   \n",
      "2  Assam   Barpeta          MAIZE                   Tomato     2400.0   \n",
      "3  Assam  Goalpara  FINGER MILLET                   Bhindi     4000.0   \n",
      "4  Assam  Goalpara   RABI SORGHUM             Bitter Gourd     2000.0   \n",
      "\n",
      "   Max_Price  \n",
      "0     2800.0  \n",
      "1     4000.0  \n",
      "2     3700.0  \n",
      "3     4500.0  \n",
      "4     2500.0  \n",
      "\n",
      "Table: irrigated_area\n",
      "   Dist_Code                     Address  Total_Area\n",
      "0          1      Durg, Chhattisgarh, 14     923.904\n",
      "1          2    Bastar, Chhattisgarh, 14      65.273\n",
      "2          3    Raipur, Chhattisgarh, 14     648.102\n",
      "3          4  Bilaspur, Chhattisgarh, 14     532.212\n",
      "4          5   Raigarh, Chhattisgarh, 14      69.692\n"
     ]
    }
   ],
   "source": [
    "dbs = ['Irrigated_Area_and_Crop_Price.db', 'soil_health.db', 'weather_data.db']\n",
    "disp_table(\"Transformed_database\", dbs[0])"
   ]
  },
  {
   "cell_type": "code",
   "execution_count": 48,
   "metadata": {},
   "outputs": [
    {
     "name": "stdout",
     "output_type": "stream",
     "text": [
      "\n",
      "Processing database: soil_health.db\n",
      "\n",
      "Table: Macro_nutrients\n",
      "   id           block   district nitrogen phosphorous potassium   oc      ec  \\\n",
      "0   1        KUNDURPI  ANANTAPUR      low        high      high  low  saline   \n",
      "1   2         NARPALA  ANANTAPUR      low      medium    medium  low  saline   \n",
      "2   3  BRAHMASAMUDRAM  ANANTAPUR      low        high    medium  low  saline   \n",
      "3   4           GOOTY  ANANTAPUR      low        high    medium  low  saline   \n",
      "4   5        GUNTAKAL  ANANTAPUR      low        high      high  low  saline   \n",
      "\n",
      "        ph  \n",
      "0  neutral  \n",
      "1  neutral  \n",
      "2  neutral  \n",
      "3  neutral  \n",
      "4  neutral  \n",
      "\n",
      "Table: Micro_nutrients\n",
      "   id           block   district      copper       boron     sulphur  \\\n",
      "0   1        KUNDURPI  ANANTAPUR  sufficient  sufficient  sufficient   \n",
      "1   2         NARPALA  ANANTAPUR  sufficient  sufficient  sufficient   \n",
      "2   3  BRAHMASAMUDRAM  ANANTAPUR  sufficient   deficient  sufficient   \n",
      "3   4           GOOTY  ANANTAPUR  sufficient  sufficient  sufficient   \n",
      "4   5        GUNTAKAL  ANANTAPUR  sufficient  sufficient  sufficient   \n",
      "\n",
      "         iron        zinc   manganese  \n",
      "0  sufficient  sufficient  sufficient  \n",
      "1  sufficient  sufficient  sufficient  \n",
      "2  sufficient  sufficient  sufficient  \n",
      "3  sufficient  sufficient  sufficient  \n",
      "4  sufficient  sufficient  sufficient  \n"
     ]
    }
   ],
   "source": [
    "disp_table(\"Transformed_database\", dbs[1])"
   ]
  },
  {
   "cell_type": "code",
   "execution_count": 49,
   "metadata": {},
   "outputs": [
    {
     "name": "stdout",
     "output_type": "stream",
     "text": [
      "\n",
      "Processing database: weather_data.db\n",
      "\n",
      "Table: Weather_data\n",
      "   id  location_id                       date  is_forecast  \\\n",
      "0   1            1  2024-11-22 18:30:00+00:00            1   \n",
      "1   2            1  2024-11-23 18:30:00+00:00            1   \n",
      "2   3            1  2024-11-24 18:30:00+00:00            1   \n",
      "3   4            1  2024-11-25 18:30:00+00:00            1   \n",
      "4   5            1  2024-11-26 18:30:00+00:00            1   \n",
      "\n",
      "   temperature_2m_max  temperature_2m_min  apparent_temperature_max  \\\n",
      "0           27.237000           12.337001                 27.965816   \n",
      "1           27.687000           14.587001                 26.741562   \n",
      "2           25.437000           13.287001                 24.577028   \n",
      "3           24.636999           11.537001                 23.843790   \n",
      "4           24.837000           11.887000                 23.500471   \n",
      "\n",
      "   apparent_temperature_min  sunrise  sunset  ...  wind_gusts_10m_max  \\\n",
      "0                 12.689610      0.0     0.0  ...           14.040000   \n",
      "1                 14.683445      0.0     0.0  ...           23.400000   \n",
      "2                 13.442530      0.0     0.0  ...           29.519999   \n",
      "3                 11.146309      0.0     0.0  ...           21.959999   \n",
      "4                 11.115404      0.0     0.0  ...           21.599998   \n",
      "\n",
      "   wind_direction_10m_dominant  shortwave_radiation_sum  \\\n",
      "0                   152.216171                    15.14   \n",
      "1                   282.480804                    15.24   \n",
      "2                   296.026337                    15.29   \n",
      "3                   297.680969                    15.30   \n",
      "4                   316.914032                    15.25   \n",
      "\n",
      "   et0_fao_evapotranspiration  temperature_avg  temperature_range  \\\n",
      "0                    2.725825        19.787000          14.899999   \n",
      "1                    3.008930        21.137001          13.099999   \n",
      "2                    2.900892        19.362000          12.150000   \n",
      "3                    2.744040        18.087000          13.099998   \n",
      "4                    2.741959        18.362000          12.950000   \n",
      "\n",
      "   hourly_temperature_avg  latest_temperature  latest_humidity  \\\n",
      "0                    None           24.700001             50.0   \n",
      "1                    None           24.700001             50.0   \n",
      "2                    None           24.700001             50.0   \n",
      "3                    None           24.700001             50.0   \n",
      "4                    None           24.700001             50.0   \n",
      "\n",
      "   latest_wind_speed  \n",
      "0           3.877318  \n",
      "1           3.877318  \n",
      "2           3.877318  \n",
      "3           3.877318  \n",
      "4           3.877318  \n",
      "\n",
      "[5 rows x 29 columns]\n"
     ]
    }
   ],
   "source": [
    "disp_table(\"Transformed_database\", dbs[2])"
   ]
  }
 ],
 "metadata": {
  "kernelspec": {
   "display_name": "Python 3",
   "language": "python",
   "name": "python3"
  },
  "language_info": {
   "codemirror_mode": {
    "name": "ipython",
    "version": 3
   },
   "file_extension": ".py",
   "mimetype": "text/x-python",
   "name": "python",
   "nbconvert_exporter": "python",
   "pygments_lexer": "ipython3",
   "version": "3.12.7"
  }
 },
 "nbformat": 4,
 "nbformat_minor": 2
}
